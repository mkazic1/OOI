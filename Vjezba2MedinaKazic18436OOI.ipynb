{
  "nbformat": 4,
  "nbformat_minor": 0,
  "metadata": {
    "colab": {
      "name": "Vjezba2MedinaKazic18436OOI.ipynb",
      "provenance": [],
      "collapsed_sections": [],
      "include_colab_link": true
    },
    "kernelspec": {
      "name": "julia-1.5",
      "display_name": "Julia 1.5"
    },
    "accelerator": "GPU"
  },
  "cells": [
    {
      "cell_type": "markdown",
      "metadata": {
        "id": "view-in-github",
        "colab_type": "text"
      },
      "source": [
        "<a href=\"https://colab.research.google.com/github/mkazic1/OOI/blob/main/Vjezba2MedinaKazic18436OOI.ipynb\" target=\"_parent\"><img src=\"https://colab.research.google.com/assets/colab-badge.svg\" alt=\"Open In Colab\"/></a>"
      ]
    },
    {
      "cell_type": "markdown",
      "metadata": {
        "id": "WporAJmFAvIr"
      },
      "source": [
        "**MEDINA KAZIĆ 18436**\n",
        "\n"
      ]
    },
    {
      "cell_type": "markdown",
      "metadata": {
        "id": "TjavZvG9KwvF"
      },
      "source": [
        "### **Postavka Julie u Google Colab**\n",
        "\n",
        "Potrebno je preuzeti ovaj notebook, upload-ovati ga i pokrenuti kôd ispod prilikom kreiranja notebook-a za sve vježbe. Nakon pokretanja, potrebno je restartovati notebook. U *Runtime* kliknite na *Change runtime type* i odaberite Juliu i GPU. Sada možete koristiti Juliu za sve što radite.\n",
        "\n",
        "U slučaju da vam krene izbacivati greške radi gubitka trenutne sesije izvršite sve naredbe opet i restartujte notebook.\n",
        "\n",
        "\n"
      ]
    },
    {
      "cell_type": "code",
      "metadata": {
        "id": "oMSuTc3pDlHv",
        "colab": {
          "base_uri": "https://localhost:8080/"
        },
        "outputId": "afb0fab9-289b-4d36-9c6f-0200164e85fd"
      },
      "source": [
        "!curl -sSL \"https://julialang-s3.julialang.org/bin/linux/x64/1.5/julia-1.5.2-linux-x86_64.tar.gz\" -o julia.tar.gz\n",
        "!tar -xzf julia.tar.gz -C /usr --strip-components 1\n",
        "!rm -rf julia.tar.gz*\n",
        "!julia -e 'using Pkg; pkg\"add IJulia; precompile\"'\n",
        "!echo \"DONE\""
      ],
      "execution_count": null,
      "outputs": [
        {
          "output_type": "stream",
          "name": "stdout",
          "text": [
            "\u001b[32m\u001b[1m Installing\u001b[22m\u001b[39m known registries into `~/.julia`\n",
            "######################################################################## 100.0%\n",
            "\u001b[32m\u001b[1m      Added\u001b[22m\u001b[39m registry `General` to `~/.julia/registries/General`\n",
            "\u001b[32m\u001b[1m  Resolving\u001b[22m\u001b[39m package versions...\n",
            "\u001b[32m\u001b[1m  Installed\u001b[22m\u001b[39m Parsers ───────── v2.1.1\n",
            "\u001b[32m\u001b[1m  Installed\u001b[22m\u001b[39m MbedTLS ───────── v1.0.3\n",
            "\u001b[32m\u001b[1m  Installed\u001b[22m\u001b[39m Artifacts ─────── v1.3.0\n",
            "\u001b[32m\u001b[1m  Installed\u001b[22m\u001b[39m VersionParsing ── v1.2.1\n",
            "\u001b[32m\u001b[1m  Installed\u001b[22m\u001b[39m Conda ─────────── v1.5.2\n",
            "\u001b[32m\u001b[1m  Installed\u001b[22m\u001b[39m TOML ──────────── v1.0.3\n",
            "\u001b[32m\u001b[1m  Installed\u001b[22m\u001b[39m MbedTLS_jll ───── v2.16.8+1\n",
            "\u001b[32m\u001b[1m  Installed\u001b[22m\u001b[39m Preferences ───── v1.2.2\n",
            "\u001b[32m\u001b[1m  Installed\u001b[22m\u001b[39m ZeroMQ_jll ────── v4.3.2+6\n",
            "\u001b[32m\u001b[1m  Installed\u001b[22m\u001b[39m libsodium_jll ─── v1.0.19+0\n",
            "\u001b[32m\u001b[1m  Installed\u001b[22m\u001b[39m ZMQ ───────────── v1.2.1\n",
            "\u001b[32m\u001b[1m  Installed\u001b[22m\u001b[39m IJulia ────────── v1.23.2\n",
            "\u001b[32m\u001b[1m  Installed\u001b[22m\u001b[39m JLLWrappers ───── v1.3.0\n",
            "\u001b[32m\u001b[1m  Installed\u001b[22m\u001b[39m JSON ──────────── v0.21.2\n",
            "\u001b[32m\u001b[1m  Installed\u001b[22m\u001b[39m SoftGlobalScope ─ v1.1.0\n",
            "\u001b[32m\u001b[1mDownloading\u001b[22m\u001b[39m artifact: ZeroMQ\n",
            "######################################################################## 100.0%\n",
            "\u001b[1A\u001b[2K\u001b[?25h\u001b[32m\u001b[1mDownloading\u001b[22m\u001b[39m artifact: libsodium\n",
            "######################################################################## 100.0%\n",
            "\u001b[1A\u001b[2K\u001b[?25h\u001b[32m\u001b[1mDownloading\u001b[22m\u001b[39m artifact: MbedTLS\n",
            "######################################################################## 100.0%\n",
            "\u001b[1A\u001b[2K\u001b[?25h\u001b[32m\u001b[1mUpdating\u001b[22m\u001b[39m `~/.julia/environments/v1.5/Project.toml`\n",
            " \u001b[90m [7073ff75] \u001b[39m\u001b[92m+ IJulia v1.23.2\u001b[39m\n",
            "\u001b[32m\u001b[1mUpdating\u001b[22m\u001b[39m `~/.julia/environments/v1.5/Manifest.toml`\n",
            " \u001b[90m [56f22d72] \u001b[39m\u001b[92m+ Artifacts v1.3.0\u001b[39m\n",
            " \u001b[90m [8f4d0f93] \u001b[39m\u001b[92m+ Conda v1.5.2\u001b[39m\n",
            " \u001b[90m [7073ff75] \u001b[39m\u001b[92m+ IJulia v1.23.2\u001b[39m\n",
            " \u001b[90m [692b3bcd] \u001b[39m\u001b[92m+ JLLWrappers v1.3.0\u001b[39m\n",
            " \u001b[90m [682c06a0] \u001b[39m\u001b[92m+ JSON v0.21.2\u001b[39m\n",
            " \u001b[90m [739be429] \u001b[39m\u001b[92m+ MbedTLS v1.0.3\u001b[39m\n",
            " \u001b[90m [c8ffd9c3] \u001b[39m\u001b[92m+ MbedTLS_jll v2.16.8+1\u001b[39m\n",
            " \u001b[90m [69de0a69] \u001b[39m\u001b[92m+ Parsers v2.1.1\u001b[39m\n",
            " \u001b[90m [21216c6a] \u001b[39m\u001b[92m+ Preferences v1.2.2\u001b[39m\n",
            " \u001b[90m [b85f4697] \u001b[39m\u001b[92m+ SoftGlobalScope v1.1.0\u001b[39m\n",
            " \u001b[90m [fa267f1f] \u001b[39m\u001b[92m+ TOML v1.0.3\u001b[39m\n",
            " \u001b[90m [81def892] \u001b[39m\u001b[92m+ VersionParsing v1.2.1\u001b[39m\n",
            " \u001b[90m [c2297ded] \u001b[39m\u001b[92m+ ZMQ v1.2.1\u001b[39m\n",
            " \u001b[90m [8f1865be] \u001b[39m\u001b[92m+ ZeroMQ_jll v4.3.2+6\u001b[39m\n",
            " \u001b[90m [a9144af2] \u001b[39m\u001b[92m+ libsodium_jll v1.0.19+0\u001b[39m\n",
            " \u001b[90m [2a0f44e3] \u001b[39m\u001b[92m+ Base64\u001b[39m\n",
            " \u001b[90m [ade2ca70] \u001b[39m\u001b[92m+ Dates\u001b[39m\n",
            " \u001b[90m [8ba89e20] \u001b[39m\u001b[92m+ Distributed\u001b[39m\n",
            " \u001b[90m [7b1f6079] \u001b[39m\u001b[92m+ FileWatching\u001b[39m\n",
            " \u001b[90m [b77e0a4c] \u001b[39m\u001b[92m+ InteractiveUtils\u001b[39m\n",
            " \u001b[90m [76f85450] \u001b[39m\u001b[92m+ LibGit2\u001b[39m\n",
            " \u001b[90m [8f399da3] \u001b[39m\u001b[92m+ Libdl\u001b[39m\n",
            " \u001b[90m [56ddb016] \u001b[39m\u001b[92m+ Logging\u001b[39m\n",
            " \u001b[90m [d6f4376e] \u001b[39m\u001b[92m+ Markdown\u001b[39m\n",
            " \u001b[90m [a63ad114] \u001b[39m\u001b[92m+ Mmap\u001b[39m\n",
            " \u001b[90m [44cfe95a] \u001b[39m\u001b[92m+ Pkg\u001b[39m\n",
            " \u001b[90m [de0858da] \u001b[39m\u001b[92m+ Printf\u001b[39m\n",
            " \u001b[90m [3fa0cd96] \u001b[39m\u001b[92m+ REPL\u001b[39m\n",
            " \u001b[90m [9a3f8284] \u001b[39m\u001b[92m+ Random\u001b[39m\n",
            " \u001b[90m [ea8e919c] \u001b[39m\u001b[92m+ SHA\u001b[39m\n",
            " \u001b[90m [9e88b42a] \u001b[39m\u001b[92m+ Serialization\u001b[39m\n",
            " \u001b[90m [6462fe0b] \u001b[39m\u001b[92m+ Sockets\u001b[39m\n",
            " \u001b[90m [8dfed614] \u001b[39m\u001b[92m+ Test\u001b[39m\n",
            " \u001b[90m [cf7118a7] \u001b[39m\u001b[92m+ UUIDs\u001b[39m\n",
            " \u001b[90m [4ec0a83e] \u001b[39m\u001b[92m+ Unicode\u001b[39m\n",
            "\u001b[32m\u001b[1m   Building\u001b[22m\u001b[39m Conda ─→ `~/.julia/packages/Conda/sNGum/deps/build.log`\n",
            "\u001b[32m\u001b[1m   Building\u001b[22m\u001b[39m IJulia → `~/.julia/packages/IJulia/e8kqU/deps/build.log`\n",
            "\u001b[32m\u001b[1mPrecompiling\u001b[22m\u001b[39m project...\n",
            "DONE\n"
          ]
        }
      ]
    },
    {
      "cell_type": "code",
      "metadata": {
        "colab": {
          "base_uri": "https://localhost:8080/"
        },
        "id": "6X2XlLRi10G9",
        "outputId": "43481465-0fba-4a6e-a900-7859cc4c8497"
      },
      "source": [
        "using Pkg;\n",
        "Pkg.add(\"JuMP\")\n",
        "Pkg.add(\"GLPK\")"
      ],
      "execution_count": null,
      "outputs": [
        {
          "output_type": "stream",
          "name": "stderr",
          "text": [
            "\u001b[32m\u001b[1m   Updating\u001b[22m\u001b[39m registry at `~/.julia/registries/General`\n",
            "######################################################################### 100.0%\n",
            "\u001b[32m\u001b[1m  Resolving\u001b[22m\u001b[39m package versions...\n",
            "\u001b[32m\u001b[1m  Installed\u001b[22m\u001b[39m CodecBzip2 ─────────────────── v0.7.2\n",
            "\u001b[32m\u001b[1m  Installed\u001b[22m\u001b[39m DataStructures ─────────────── v0.18.10\n",
            "\u001b[32m\u001b[1m  Installed\u001b[22m\u001b[39m Zlib_jll ───────────────────── v1.2.11+18\n",
            "\u001b[32m\u001b[1m  Installed\u001b[22m\u001b[39m DiffRules ──────────────────── v1.3.1\n",
            "\u001b[32m\u001b[1m  Installed\u001b[22m\u001b[39m JuMP ───────────────────────── v0.21.10\n",
            "\u001b[32m\u001b[1m  Installed\u001b[22m\u001b[39m NaNMath ────────────────────── v0.3.5\n",
            "\u001b[32m\u001b[1m  Installed\u001b[22m\u001b[39m OrderedCollections ─────────── v1.4.1\n",
            "\u001b[32m\u001b[1m  Installed\u001b[22m\u001b[39m MutableArithmetics ─────────── v0.2.22\n",
            "\u001b[32m\u001b[1m  Installed\u001b[22m\u001b[39m CodecZlib ──────────────────── v0.7.0\n",
            "\u001b[32m\u001b[1m  Installed\u001b[22m\u001b[39m Bzip2_jll ──────────────────── v1.0.7+0\n",
            "\u001b[32m\u001b[1m  Installed\u001b[22m\u001b[39m OpenLibm_jll ───────────────── v0.7.1+0\n",
            "\u001b[32m\u001b[1m  Installed\u001b[22m\u001b[39m JSONSchema ─────────────────── v0.3.4\n",
            "\u001b[32m\u001b[1m  Installed\u001b[22m\u001b[39m Compat ─────────────────────── v3.40.0\n",
            "\u001b[32m\u001b[1m  Installed\u001b[22m\u001b[39m DocStringExtensions ────────── v0.8.6\n",
            "\u001b[32m\u001b[1m  Installed\u001b[22m\u001b[39m MacroTools ─────────────────── v0.5.9\n",
            "\u001b[32m\u001b[1m  Installed\u001b[22m\u001b[39m BenchmarkTools ─────────────── v1.2.0\n",
            "\u001b[32m\u001b[1m  Installed\u001b[22m\u001b[39m URIs ───────────────────────── v1.3.0\n",
            "\u001b[32m\u001b[1m  Installed\u001b[22m\u001b[39m CompilerSupportLibraries_jll ─ v0.3.4+0\n",
            "\u001b[32m\u001b[1m  Installed\u001b[22m\u001b[39m IrrationalConstants ────────── v0.1.1\n",
            "\u001b[32m\u001b[1m  Installed\u001b[22m\u001b[39m InverseFunctions ───────────── v0.1.1\n",
            "\u001b[32m\u001b[1m  Installed\u001b[22m\u001b[39m DiffResults ────────────────── v1.0.3\n",
            "\u001b[32m\u001b[1m  Installed\u001b[22m\u001b[39m StaticArrays ───────────────── v1.2.13\n",
            "\u001b[32m\u001b[1m  Installed\u001b[22m\u001b[39m CommonSubexpressions ───────── v0.3.0\n",
            "\u001b[32m\u001b[1m  Installed\u001b[22m\u001b[39m TranscodingStreams ─────────── v0.9.6\n",
            "\u001b[32m\u001b[1m  Installed\u001b[22m\u001b[39m ChainRulesCore ─────────────── v1.11.0\n",
            "\u001b[32m\u001b[1m  Installed\u001b[22m\u001b[39m ForwardDiff ────────────────── v0.10.21\n",
            "\u001b[32m\u001b[1m  Installed\u001b[22m\u001b[39m NetworkOptions ─────────────── v1.2.0\n",
            "\u001b[32m\u001b[1m  Installed\u001b[22m\u001b[39m OpenSpecFun_jll ────────────── v0.5.3+4\n",
            "\u001b[32m\u001b[1m  Installed\u001b[22m\u001b[39m LogExpFunctions ────────────── v0.3.4\n",
            "\u001b[32m\u001b[1m  Installed\u001b[22m\u001b[39m Calculus ───────────────────── v0.5.1\n",
            "\u001b[32m\u001b[1m  Installed\u001b[22m\u001b[39m SpecialFunctions ───────────── v1.8.1\n",
            "\u001b[32m\u001b[1m  Installed\u001b[22m\u001b[39m IniFile ────────────────────── v0.5.0\n",
            "\u001b[32m\u001b[1m  Installed\u001b[22m\u001b[39m MathOptInterface ───────────── v0.9.22\n",
            "\u001b[32m\u001b[1m  Installed\u001b[22m\u001b[39m HTTP ───────────────────────── v0.9.16\n",
            "\u001b[32m\u001b[1mUpdating\u001b[22m\u001b[39m `~/.julia/environments/v1.5/Project.toml`\n",
            " \u001b[90m [4076af6c] \u001b[39m\u001b[92m+ JuMP v0.21.10\u001b[39m\n",
            "\u001b[32m\u001b[1mUpdating\u001b[22m\u001b[39m `~/.julia/environments/v1.5/Manifest.toml`\n",
            " \u001b[90m [6e4b80f9] \u001b[39m\u001b[92m+ BenchmarkTools v1.2.0\u001b[39m\n",
            " \u001b[90m [6e34b625] \u001b[39m\u001b[92m+ Bzip2_jll v1.0.7+0\u001b[39m\n",
            " \u001b[90m [49dc2e85] \u001b[39m\u001b[92m+ Calculus v0.5.1\u001b[39m\n",
            " \u001b[90m [d360d2e6] \u001b[39m\u001b[92m+ ChainRulesCore v1.11.0\u001b[39m\n",
            " \u001b[90m [523fee87] \u001b[39m\u001b[92m+ CodecBzip2 v0.7.2\u001b[39m\n",
            " \u001b[90m [944b1d66] \u001b[39m\u001b[92m+ CodecZlib v0.7.0\u001b[39m\n",
            " \u001b[90m [bbf7d656] \u001b[39m\u001b[92m+ CommonSubexpressions v0.3.0\u001b[39m\n",
            " \u001b[90m [34da2185] \u001b[39m\u001b[92m+ Compat v3.40.0\u001b[39m\n",
            " \u001b[90m [e66e0078] \u001b[39m\u001b[92m+ CompilerSupportLibraries_jll v0.3.4+0\u001b[39m\n",
            " \u001b[90m [864edb3b] \u001b[39m\u001b[92m+ DataStructures v0.18.10\u001b[39m\n",
            " \u001b[90m [163ba53b] \u001b[39m\u001b[92m+ DiffResults v1.0.3\u001b[39m\n",
            " \u001b[90m [b552c78f] \u001b[39m\u001b[92m+ DiffRules v1.3.1\u001b[39m\n",
            " \u001b[90m [ffbed154] \u001b[39m\u001b[92m+ DocStringExtensions v0.8.6\u001b[39m\n",
            " \u001b[90m [f6369f11] \u001b[39m\u001b[92m+ ForwardDiff v0.10.21\u001b[39m\n",
            " \u001b[90m [cd3eb016] \u001b[39m\u001b[92m+ HTTP v0.9.16\u001b[39m\n",
            " \u001b[90m [83e8ac13] \u001b[39m\u001b[92m+ IniFile v0.5.0\u001b[39m\n",
            " \u001b[90m [3587e190] \u001b[39m\u001b[92m+ InverseFunctions v0.1.1\u001b[39m\n",
            " \u001b[90m [92d709cd] \u001b[39m\u001b[92m+ IrrationalConstants v0.1.1\u001b[39m\n",
            " \u001b[90m [7d188eb4] \u001b[39m\u001b[92m+ JSONSchema v0.3.4\u001b[39m\n",
            " \u001b[90m [4076af6c] \u001b[39m\u001b[92m+ JuMP v0.21.10\u001b[39m\n",
            " \u001b[90m [2ab3a3ac] \u001b[39m\u001b[92m+ LogExpFunctions v0.3.4\u001b[39m\n",
            " \u001b[90m [1914dd2f] \u001b[39m\u001b[92m+ MacroTools v0.5.9\u001b[39m\n",
            " \u001b[90m [b8f27783] \u001b[39m\u001b[92m+ MathOptInterface v0.9.22\u001b[39m\n",
            " \u001b[90m [d8a4904e] \u001b[39m\u001b[92m+ MutableArithmetics v0.2.22\u001b[39m\n",
            " \u001b[90m [77ba4419] \u001b[39m\u001b[92m+ NaNMath v0.3.5\u001b[39m\n",
            " \u001b[90m [ca575930] \u001b[39m\u001b[92m+ NetworkOptions v1.2.0\u001b[39m\n",
            " \u001b[90m [05823500] \u001b[39m\u001b[92m+ OpenLibm_jll v0.7.1+0\u001b[39m\n",
            " \u001b[90m [efe28fd5] \u001b[39m\u001b[92m+ OpenSpecFun_jll v0.5.3+4\u001b[39m\n",
            " \u001b[90m [bac558e1] \u001b[39m\u001b[92m+ OrderedCollections v1.4.1\u001b[39m\n",
            " \u001b[90m [276daf66] \u001b[39m\u001b[92m+ SpecialFunctions v1.8.1\u001b[39m\n",
            " \u001b[90m [90137ffa] \u001b[39m\u001b[92m+ StaticArrays v1.2.13\u001b[39m\n",
            " \u001b[90m [3bb67fe8] \u001b[39m\u001b[92m+ TranscodingStreams v0.9.6\u001b[39m\n",
            " \u001b[90m [5c2747f8] \u001b[39m\u001b[92m+ URIs v1.3.0\u001b[39m\n",
            " \u001b[90m [83775a58] \u001b[39m\u001b[92m+ Zlib_jll v1.2.11+18\u001b[39m\n",
            " \u001b[90m [8bb1440f] \u001b[39m\u001b[92m+ DelimitedFiles\u001b[39m\n",
            " \u001b[90m [37e2e46d] \u001b[39m\u001b[92m+ LinearAlgebra\u001b[39m\n",
            " \u001b[90m [9abbd945] \u001b[39m\u001b[92m+ Profile\u001b[39m\n",
            " \u001b[90m [1a1011a3] \u001b[39m\u001b[92m+ SharedArrays\u001b[39m\n",
            " \u001b[90m [2f01184e] \u001b[39m\u001b[92m+ SparseArrays\u001b[39m\n",
            " \u001b[90m [10745b16] \u001b[39m\u001b[92m+ Statistics\u001b[39m\n",
            "\u001b[32m\u001b[1m  Resolving\u001b[22m\u001b[39m package versions...\n",
            "\u001b[32m\u001b[1m  Installed\u001b[22m\u001b[39m GMP_jll ──────── v6.1.2+6\n",
            "\u001b[32m\u001b[1m  Installed\u001b[22m\u001b[39m GLPK_jll ─────── v5.0.0+0\n",
            "\u001b[32m\u001b[1m  Installed\u001b[22m\u001b[39m CEnum ────────── v0.4.1\n",
            "\u001b[32m\u001b[1m  Installed\u001b[22m\u001b[39m BinaryProvider ─ v0.5.10\n",
            "\u001b[32m\u001b[1m  Installed\u001b[22m\u001b[39m GLPK ─────────── v0.14.14\n",
            "\u001b[32m\u001b[1mUpdating\u001b[22m\u001b[39m `~/.julia/environments/v1.5/Project.toml`\n",
            " \u001b[90m [60bf3e95] \u001b[39m\u001b[92m+ GLPK v0.14.14\u001b[39m\n",
            "\u001b[32m\u001b[1mUpdating\u001b[22m\u001b[39m `~/.julia/environments/v1.5/Manifest.toml`\n",
            " \u001b[90m [b99e7846] \u001b[39m\u001b[92m+ BinaryProvider v0.5.10\u001b[39m\n",
            " \u001b[90m [fa961155] \u001b[39m\u001b[92m+ CEnum v0.4.1\u001b[39m\n",
            " \u001b[90m [60bf3e95] \u001b[39m\u001b[92m+ GLPK v0.14.14\u001b[39m\n",
            " \u001b[90m [e8aa6df9] \u001b[39m\u001b[92m+ GLPK_jll v5.0.0+0\u001b[39m\n",
            " \u001b[90m [781609d7] \u001b[39m\u001b[92m+ GMP_jll v6.1.2+6\u001b[39m\n",
            "\u001b[32m\u001b[1m   Building\u001b[22m\u001b[39m GLPK → `~/.julia/packages/GLPK/JpN1q/deps/build.log`\n"
          ]
        }
      ]
    },
    {
      "cell_type": "code",
      "metadata": {
        "id": "h9L7HUWeEyTT"
      },
      "source": [
        ""
      ],
      "execution_count": null,
      "outputs": []
    },
    {
      "cell_type": "code",
      "metadata": {
        "id": "zOmdgb6K3eOk"
      },
      "source": [
        "using JuMP,GLPK"
      ],
      "execution_count": null,
      "outputs": []
    },
    {
      "cell_type": "markdown",
      "metadata": {
        "id": "jXriqCNQFIEg"
      },
      "source": [
        "**Zadakat 1.1** Primjer sa strane 24 u predavanju\n",
        "\n",
        "---\n",
        "\n"
      ]
    },
    {
      "cell_type": "code",
      "metadata": {
        "colab": {
          "base_uri": "https://localhost:8080/"
        },
        "id": "R5QaNWd15NPd",
        "outputId": "712252d4-2259-4247-8990-45fb0add66f7"
      },
      "source": [
        "A=Model(GLPK.Optimizer)"
      ],
      "execution_count": null,
      "outputs": [
        {
          "output_type": "execute_result",
          "data": {
            "text/plain": [
              "A JuMP Model\n",
              "Feasibility problem with:\n",
              "Variables: 0\n",
              "Model mode: AUTOMATIC\n",
              "CachingOptimizer state: EMPTY_OPTIMIZER\n",
              "Solver name: GLPK"
            ]
          },
          "metadata": {},
          "execution_count": 18
        }
      ]
    },
    {
      "cell_type": "code",
      "metadata": {
        "colab": {
          "base_uri": "https://localhost:8080/",
          "height": 38
        },
        "id": "yP6yXUXU5t7K",
        "outputId": "5b6fa98a-ec57-4559-d74e-3a0016e94b49"
      },
      "source": [
        "@variable(A,x1>=0)\n",
        "@variable(A,x2>=0)"
      ],
      "execution_count": null,
      "outputs": [
        {
          "output_type": "execute_result",
          "data": {
            "text/latex": "$$ x2 $$",
            "text/plain": [
              "x2"
            ]
          },
          "metadata": {},
          "execution_count": 19
        }
      ]
    },
    {
      "cell_type": "code",
      "metadata": {
        "colab": {
          "base_uri": "https://localhost:8080/",
          "height": 38
        },
        "id": "McPm6GYi6EyS",
        "outputId": "67d655c1-fea7-4071-a99b-80462ab67a26"
      },
      "source": [
        "@objective(A, Max, 3x1+5x2)"
      ],
      "execution_count": null,
      "outputs": [
        {
          "output_type": "execute_result",
          "data": {
            "text/latex": "$$ 3 x1 + 5 x2 $$",
            "text/plain": [
              "3 x1 + 5 x2"
            ]
          },
          "metadata": {},
          "execution_count": 20
        }
      ]
    },
    {
      "cell_type": "code",
      "metadata": {
        "colab": {
          "base_uri": "https://localhost:8080/",
          "height": 35
        },
        "id": "1zi61cce6pVM",
        "outputId": "df6a74f6-2d19-4887-e3bb-162984bf23d4"
      },
      "source": [
        "@constraint(A,constraint1,1x1<=4)"
      ],
      "execution_count": null,
      "outputs": [
        {
          "output_type": "execute_result",
          "data": {
            "text/latex": "constraint1 : $ x1 \\leq 4.0 $",
            "text/plain": [
              "constraint1 : x1 ≤ 4.0"
            ]
          },
          "metadata": {},
          "execution_count": 21
        }
      ]
    },
    {
      "cell_type": "code",
      "metadata": {
        "colab": {
          "base_uri": "https://localhost:8080/",
          "height": 35
        },
        "id": "Vz86L_UY8cec",
        "outputId": "131aa6eb-ff77-428a-e2ea-de6e3d19af76"
      },
      "source": [
        "@constraint(A,constraint2,2x2<=12)"
      ],
      "execution_count": null,
      "outputs": [
        {
          "output_type": "execute_result",
          "data": {
            "text/latex": "constraint2 : $ 2 x2 \\leq 12.0 $",
            "text/plain": [
              "constraint2 : 2 x2 ≤ 12.0"
            ]
          },
          "metadata": {},
          "execution_count": 22
        }
      ]
    },
    {
      "cell_type": "code",
      "metadata": {
        "colab": {
          "base_uri": "https://localhost:8080/",
          "height": 35
        },
        "id": "1u_3cf5t8iS_",
        "outputId": "5aa20330-8b95-4235-81d4-ef46ddc7e2c9"
      },
      "source": [
        "@constraint(A,constraint3,3x1+2x2<=18)"
      ],
      "execution_count": null,
      "outputs": [
        {
          "output_type": "execute_result",
          "data": {
            "text/latex": "constraint3 : $ 3 x1 + 2 x2 \\leq 18.0 $",
            "text/plain": [
              "constraint3 : 3 x1 + 2 x2 ≤ 18.0"
            ]
          },
          "metadata": {},
          "execution_count": 23
        }
      ]
    },
    {
      "cell_type": "code",
      "metadata": {
        "colab": {
          "base_uri": "https://localhost:8080/",
          "height": 35
        },
        "id": "6GwdwGHj-uQX",
        "outputId": "d204a21d-7b1e-4b5a-eda7-6f4ab9fed9cc"
      },
      "source": [
        "@constraint(A,constraint4,x1+3x2<=21)"
      ],
      "execution_count": null,
      "outputs": [
        {
          "output_type": "execute_result",
          "data": {
            "text/latex": "constraint4 : $ x1 + 3 x2 \\leq 21.0 $",
            "text/plain": [
              "constraint4 : x1 + 3 x2 ≤ 21.0"
            ]
          },
          "metadata": {},
          "execution_count": 24
        }
      ]
    },
    {
      "cell_type": "code",
      "metadata": {
        "colab": {
          "base_uri": "https://localhost:8080/",
          "height": 35
        },
        "id": "xbtRa_d2-zCC",
        "outputId": "13c6336f-7462-4a64-f4ed-0caa8f1e28c7"
      },
      "source": [
        "@constraint(A,constraint5,2x1 + 3x2>= 6)"
      ],
      "execution_count": null,
      "outputs": [
        {
          "output_type": "execute_result",
          "data": {
            "text/latex": "constraint5 : $ 2 x1 + 3 x2 \\geq 6.0 $",
            "text/plain": [
              "constraint5 : 2 x1 + 3 x2 ≥ 6.0"
            ]
          },
          "metadata": {},
          "execution_count": 25
        }
      ]
    },
    {
      "cell_type": "code",
      "metadata": {
        "colab": {
          "base_uri": "https://localhost:8080/",
          "height": 220
        },
        "id": "AMqqgAuN_OGW",
        "outputId": "a50f91f1-c3f5-4737-e825-1e3e5ae98d73"
      },
      "source": [
        "print(A)"
      ],
      "execution_count": null,
      "outputs": [
        {
          "output_type": "display_data",
          "data": {
            "text/latex": "$$ \\begin{aligned}\n\\max\\quad & 3 x1 + 5 x2\\\\\n\\text{Subject to} \\quad & 2 x1 + 3 x2 \\geq 6.0\\\\\n & x1 \\leq 4.0\\\\\n & 2 x2 \\leq 12.0\\\\\n & 3 x1 + 2 x2 \\leq 18.0\\\\\n & x1 + 3 x2 \\leq 21.0\\\\\n & x1 \\geq 0.0\\\\\n & x2 \\geq 0.0\\\\\n\\end{aligned} $$"
          },
          "metadata": {}
        }
      ]
    },
    {
      "cell_type": "code",
      "metadata": {
        "id": "JuHAj0TQ_yqO"
      },
      "source": [
        "optimize!(A)"
      ],
      "execution_count": null,
      "outputs": []
    },
    {
      "cell_type": "code",
      "metadata": {
        "colab": {
          "base_uri": "https://localhost:8080/"
        },
        "id": "uWepIykOA14r",
        "outputId": "e16c084d-ec3d-498f-ecd6-9529188ea9be"
      },
      "source": [
        "termination_status(A)"
      ],
      "execution_count": null,
      "outputs": [
        {
          "output_type": "execute_result",
          "data": {
            "text/plain": [
              "OPTIMAL::TerminationStatusCode = 1"
            ]
          },
          "metadata": {},
          "execution_count": 28
        }
      ]
    },
    {
      "cell_type": "code",
      "metadata": {
        "colab": {
          "base_uri": "https://localhost:8080/"
        },
        "id": "VBRQbqBhCKpr",
        "outputId": "1fd14876-f429-4bb5-a211-6ebd895f01eb"
      },
      "source": [
        "println(\"Rješenja:\")\n",
        "println(\"x1= \", value(x1))\n",
        "println(\"x2= \", value(x2))\n",
        "println(\"Vrijednost cilja:\")\n",
        "println(objective_value(A))"
      ],
      "execution_count": null,
      "outputs": [
        {
          "output_type": "stream",
          "name": "stdout",
          "text": [
            "Rješenja:\n",
            "x1= 2.0\n",
            "x2= 6.0\n",
            "Vrijednost cilja:\n",
            "36.0\n"
          ]
        }
      ]
    },
    {
      "cell_type": "code",
      "metadata": {
        "colab": {
          "base_uri": "https://localhost:8080/"
        },
        "id": "yTbPh8__DUoC",
        "outputId": "5598c13d-aa90-454c-ada2-bcf7a2726a92"
      },
      "source": [
        "value(constraint1)"
      ],
      "execution_count": null,
      "outputs": [
        {
          "output_type": "execute_result",
          "data": {
            "text/plain": [
              "2.0"
            ]
          },
          "metadata": {},
          "execution_count": 30
        }
      ]
    },
    {
      "cell_type": "code",
      "metadata": {
        "colab": {
          "base_uri": "https://localhost:8080/"
        },
        "id": "jKxX5cRqD4cX",
        "outputId": "b04b58b1-19a0-446c-f4e9-50e47535d216"
      },
      "source": [
        "value(constraint5)"
      ],
      "execution_count": null,
      "outputs": [
        {
          "output_type": "execute_result",
          "data": {
            "text/plain": [
              "22.0"
            ]
          },
          "metadata": {},
          "execution_count": 31
        }
      ]
    },
    {
      "cell_type": "markdown",
      "metadata": {
        "id": "_Txd9wcNFVMb"
      },
      "source": [
        "**Zadatak 1.2** Primjer sa strane 14 u predavanju\n",
        "\n",
        "---\n",
        "\n",
        "\n"
      ]
    },
    {
      "cell_type": "code",
      "metadata": {
        "colab": {
          "base_uri": "https://localhost:8080/"
        },
        "id": "yCY4PApbFiWb",
        "outputId": "ee413b87-372c-45a5-a151-fa4a4ddb1786"
      },
      "source": [
        "B=Model(GLPK.Optimizer)"
      ],
      "execution_count": null,
      "outputs": [
        {
          "output_type": "execute_result",
          "data": {
            "text/plain": [
              "A JuMP Model\n",
              "Feasibility problem with:\n",
              "Variables: 0\n",
              "Model mode: AUTOMATIC\n",
              "CachingOptimizer state: EMPTY_OPTIMIZER\n",
              "Solver name: GLPK"
            ]
          },
          "metadata": {},
          "execution_count": 32
        }
      ]
    },
    {
      "cell_type": "code",
      "metadata": {
        "colab": {
          "base_uri": "https://localhost:8080/",
          "height": 38
        },
        "id": "PE8znIbfGGj3",
        "outputId": "26759114-56bb-43e6-d3d6-2d982d90bf75"
      },
      "source": [
        "@variable(B,x1>=0)\n",
        "@variable(B,x2>=0)"
      ],
      "execution_count": null,
      "outputs": [
        {
          "output_type": "execute_result",
          "data": {
            "text/latex": "$$ x2 $$",
            "text/plain": [
              "x2"
            ]
          },
          "metadata": {},
          "execution_count": 33
        }
      ]
    },
    {
      "cell_type": "code",
      "metadata": {
        "colab": {
          "base_uri": "https://localhost:8080/",
          "height": 38
        },
        "id": "ScvPbcHlGNgN",
        "outputId": "4cf1c238-a021-4a56-82e6-f36b179144d7"
      },
      "source": [
        "@objective(B, Max, 3x1+x2)"
      ],
      "execution_count": null,
      "outputs": [
        {
          "output_type": "execute_result",
          "data": {
            "text/latex": "$$ 3 x1 + x2 $$",
            "text/plain": [
              "3 x1 + x2"
            ]
          },
          "metadata": {},
          "execution_count": 34
        }
      ]
    },
    {
      "cell_type": "code",
      "metadata": {
        "colab": {
          "base_uri": "https://localhost:8080/",
          "height": 35
        },
        "id": "1DP4HBWEGcyL",
        "outputId": "5a99ccdc-2f56-4b46-fc47-2292d8bb5ec6"
      },
      "source": [
        "@constraint(B,constraint6,0.5x1+0.3x2 <=150)"
      ],
      "execution_count": null,
      "outputs": [
        {
          "output_type": "execute_result",
          "data": {
            "text/latex": "constraint6 : $ 0.5 x1 + 0.3 x2 \\leq 150.0 $",
            "text/plain": [
              "constraint6 : 0.5 x1 + 0.3 x2 ≤ 150.0"
            ]
          },
          "metadata": {},
          "execution_count": 35
        }
      ]
    },
    {
      "cell_type": "code",
      "metadata": {
        "colab": {
          "base_uri": "https://localhost:8080/",
          "height": 35
        },
        "id": "IJonUfshGwQq",
        "outputId": "e7f6c360-f558-488c-8e8f-8648c63407d9"
      },
      "source": [
        "@constraint(B,constraint7,0.1x1+0.2x2 <=60)"
      ],
      "execution_count": null,
      "outputs": [
        {
          "output_type": "execute_result",
          "data": {
            "text/latex": "constraint7 : $ 0.1 x1 + 0.2 x2 \\leq 60.0 $",
            "text/plain": [
              "constraint7 : 0.1 x1 + 0.2 x2 ≤ 60.0"
            ]
          },
          "metadata": {},
          "execution_count": 36
        }
      ]
    },
    {
      "cell_type": "code",
      "metadata": {
        "colab": {
          "base_uri": "https://localhost:8080/",
          "height": 144
        },
        "id": "do7eVv_9G23N",
        "outputId": "7cf9d2b7-ac07-4b23-a5f0-0b92717acdc1"
      },
      "source": [
        "print(B)"
      ],
      "execution_count": null,
      "outputs": [
        {
          "output_type": "display_data",
          "data": {
            "text/latex": "$$ \\begin{aligned}\n\\max\\quad & 3 x1 + x2\\\\\n\\text{Subject to} \\quad & 0.5 x1 + 0.3 x2 \\leq 150.0\\\\\n & 0.1 x1 + 0.2 x2 \\leq 60.0\\\\\n & x1 \\geq 0.0\\\\\n & x2 \\geq 0.0\\\\\n\\end{aligned} $$"
          },
          "metadata": {}
        }
      ]
    },
    {
      "cell_type": "code",
      "metadata": {
        "id": "CUCHVokrG-3a"
      },
      "source": [
        "optimize!(B)"
      ],
      "execution_count": null,
      "outputs": []
    },
    {
      "cell_type": "code",
      "metadata": {
        "colab": {
          "base_uri": "https://localhost:8080/"
        },
        "id": "9ru2X5QjHDwF",
        "outputId": "5a751e15-5e27-4bb8-9718-fb3cf45f0c98"
      },
      "source": [
        "termination_status(B)"
      ],
      "execution_count": null,
      "outputs": [
        {
          "output_type": "execute_result",
          "data": {
            "text/plain": [
              "OPTIMAL::TerminationStatusCode = 1"
            ]
          },
          "metadata": {},
          "execution_count": 39
        }
      ]
    },
    {
      "cell_type": "code",
      "metadata": {
        "colab": {
          "base_uri": "https://localhost:8080/"
        },
        "id": "c3SO8INsHM1i",
        "outputId": "37216b83-506d-43a2-81cd-348311e74e78"
      },
      "source": [
        "println(\"Rješenja:\")\n",
        "println(\"x1= \", value(x1))\n",
        "println(\"x2= \", value(x2))\n",
        "println(\"Vrijednost cilja:\")\n",
        "println(objective_value(B))"
      ],
      "execution_count": null,
      "outputs": [
        {
          "output_type": "stream",
          "name": "stdout",
          "text": [
            "Rješenja:\n",
            "x1= 300.0\n",
            "x2= 0.0\n",
            "Vrijednost cilja:\n",
            "900.0\n"
          ]
        }
      ]
    },
    {
      "cell_type": "markdown",
      "metadata": {
        "id": "KXJUAK7qHdV0"
      },
      "source": [
        "**Zadatak 1.3** Primjer sa strane 5 u predavanju\n",
        "\n",
        "\n",
        "---\n",
        "\n"
      ]
    },
    {
      "cell_type": "code",
      "metadata": {
        "colab": {
          "base_uri": "https://localhost:8080/"
        },
        "id": "t2quFi4ZHtd0",
        "outputId": "9d185eef-f469-40ac-ac2a-bf805ec5bcb0"
      },
      "source": [
        "C=Model(GLPK.Optimizer)"
      ],
      "execution_count": null,
      "outputs": [
        {
          "output_type": "execute_result",
          "data": {
            "text/plain": [
              "A JuMP Model\n",
              "Feasibility problem with:\n",
              "Variables: 0\n",
              "Model mode: AUTOMATIC\n",
              "CachingOptimizer state: EMPTY_OPTIMIZER\n",
              "Solver name: GLPK"
            ]
          },
          "metadata": {},
          "execution_count": 41
        }
      ]
    },
    {
      "cell_type": "code",
      "metadata": {
        "colab": {
          "base_uri": "https://localhost:8080/",
          "height": 38
        },
        "id": "QfEiiTzvIoZW",
        "outputId": "18a2462e-c894-42f9-a9af-d4f930cee7da"
      },
      "source": [
        "@variable(C,x1>=0)\n",
        "@variable(C,x2>=0)"
      ],
      "execution_count": null,
      "outputs": [
        {
          "output_type": "execute_result",
          "data": {
            "text/latex": "$$ x2 $$",
            "text/plain": [
              "x2"
            ]
          },
          "metadata": {},
          "execution_count": 42
        }
      ]
    },
    {
      "cell_type": "code",
      "metadata": {
        "colab": {
          "base_uri": "https://localhost:8080/",
          "height": 38
        },
        "id": "lXFaqNthI1NI",
        "outputId": "a7ef9326-998c-4534-aaab-332e38d27427"
      },
      "source": [
        "@objective(C, Min, 40x1+30x2)"
      ],
      "execution_count": null,
      "outputs": [
        {
          "output_type": "execute_result",
          "data": {
            "text/latex": "$$ 40 x1 + 30 x2 $$",
            "text/plain": [
              "40 x1 + 30 x2"
            ]
          },
          "metadata": {},
          "execution_count": 43
        }
      ]
    },
    {
      "cell_type": "code",
      "metadata": {
        "colab": {
          "base_uri": "https://localhost:8080/",
          "height": 35
        },
        "id": "AX2qpptSJZgU",
        "outputId": "3141e625-df55-458f-820a-ed6dcceb8307"
      },
      "source": [
        "@constraint(C,constraint8,0.1x1>=0.2)"
      ],
      "execution_count": null,
      "outputs": [
        {
          "output_type": "execute_result",
          "data": {
            "text/latex": "constraint8 : $ 0.1 x1 \\geq 0.2 $",
            "text/plain": [
              "constraint8 : 0.1 x1 ≥ 0.2"
            ]
          },
          "metadata": {},
          "execution_count": 44
        }
      ]
    },
    {
      "cell_type": "code",
      "metadata": {
        "colab": {
          "base_uri": "https://localhost:8080/",
          "height": 35
        },
        "id": "rGSOuXwyJtFO",
        "outputId": "b7984e6a-8043-4331-c6a2-25f92f8013fa"
      },
      "source": [
        "@constraint(C,constraint9,0.1x2>=0.3)"
      ],
      "execution_count": null,
      "outputs": [
        {
          "output_type": "execute_result",
          "data": {
            "text/latex": "constraint9 : $ 0.1 x2 \\geq 0.3 $",
            "text/plain": [
              "constraint9 : 0.1 x2 ≥ 0.3"
            ]
          },
          "metadata": {},
          "execution_count": 45
        }
      ]
    },
    {
      "cell_type": "code",
      "metadata": {
        "colab": {
          "base_uri": "https://localhost:8080/",
          "height": 35
        },
        "id": "etuE8kSEJ5tA",
        "outputId": "c0573f17-962b-4d54-a0ec-1fdb6c84e8f3"
      },
      "source": [
        "@constraint(C,constraint10,0.5x1+0.3x2>=3)"
      ],
      "execution_count": null,
      "outputs": [
        {
          "output_type": "execute_result",
          "data": {
            "text/latex": "constraint10 : $ 0.5 x1 + 0.3 x2 \\geq 3.0 $",
            "text/plain": [
              "constraint10 : 0.5 x1 + 0.3 x2 ≥ 3.0"
            ]
          },
          "metadata": {},
          "execution_count": 46
        }
      ]
    },
    {
      "cell_type": "code",
      "metadata": {
        "colab": {
          "base_uri": "https://localhost:8080/",
          "height": 35
        },
        "id": "AfOcz34dKE0_",
        "outputId": "5492334b-9080-4599-d0d4-e2fb0cc2c17f"
      },
      "source": [
        "@constraint(C,constraint11,0.1x1+0.2x2>=1.2)"
      ],
      "execution_count": null,
      "outputs": [
        {
          "output_type": "execute_result",
          "data": {
            "text/latex": "constraint11 : $ 0.1 x1 + 0.2 x2 \\geq 1.2 $",
            "text/plain": [
              "constraint11 : 0.1 x1 + 0.2 x2 ≥ 1.2"
            ]
          },
          "metadata": {},
          "execution_count": 47
        }
      ]
    },
    {
      "cell_type": "code",
      "metadata": {
        "colab": {
          "base_uri": "https://localhost:8080/",
          "height": 195
        },
        "id": "l08E1vU6KO6F",
        "outputId": "dc87d5a5-682f-4644-a6f4-dba1da264cb3"
      },
      "source": [
        "print(C)"
      ],
      "execution_count": null,
      "outputs": [
        {
          "output_type": "display_data",
          "data": {
            "text/latex": "$$ \\begin{aligned}\n\\min\\quad & 40 x1 + 30 x2\\\\\n\\text{Subject to} \\quad & 0.1 x1 \\geq 0.2\\\\\n & 0.1 x2 \\geq 0.3\\\\\n & 0.5 x1 + 0.3 x2 \\geq 3.0\\\\\n & 0.1 x1 + 0.2 x2 \\geq 1.2\\\\\n & x1 \\geq 0.0\\\\\n & x2 \\geq 0.0\\\\\n\\end{aligned} $$"
          },
          "metadata": {}
        }
      ]
    },
    {
      "cell_type": "code",
      "metadata": {
        "id": "1AmDag8rKb3N"
      },
      "source": [
        "optimize!(C)"
      ],
      "execution_count": null,
      "outputs": []
    },
    {
      "cell_type": "code",
      "metadata": {
        "colab": {
          "base_uri": "https://localhost:8080/"
        },
        "id": "c4coP1tMKe8-",
        "outputId": "82231023-848b-4e7f-9862-9ccf10c9691e"
      },
      "source": [
        "termination_status(C)"
      ],
      "execution_count": null,
      "outputs": [
        {
          "output_type": "execute_result",
          "data": {
            "text/plain": [
              "OPTIMAL::TerminationStatusCode = 1"
            ]
          },
          "metadata": {},
          "execution_count": 50
        }
      ]
    },
    {
      "cell_type": "code",
      "metadata": {
        "colab": {
          "base_uri": "https://localhost:8080/"
        },
        "id": "YQED7PxCKk5N",
        "outputId": "5dd0a10d-c976-4b04-ce6c-f6ec985a223c"
      },
      "source": [
        "println(\"Rješenja:\")\n",
        "println(\"x1= \", value(x1))\n",
        "println(\"x2= \", value(x2))\n",
        "println(\"Vrijednost cilja:\")\n",
        "println(objective_value(C))"
      ],
      "execution_count": null,
      "outputs": [
        {
          "output_type": "stream",
          "name": "stdout",
          "text": [
            "Rješenja:\n",
            "x1= 3.4285714285714297\n",
            "x2= 4.285714285714285\n",
            "Vrijednost cilja:\n",
            "265.7142857142858\n"
          ]
        }
      ]
    },
    {
      "cell_type": "code",
      "metadata": {
        "colab": {
          "base_uri": "https://localhost:8080/"
        },
        "id": "DFsmd3jvKsY-",
        "outputId": "20f3eeef-a73f-4b15-f527-f921765f610c"
      },
      "source": [
        "result_count(C)"
      ],
      "execution_count": null,
      "outputs": [
        {
          "output_type": "execute_result",
          "data": {
            "text/plain": [
              "1"
            ]
          },
          "metadata": {},
          "execution_count": 52
        }
      ]
    },
    {
      "cell_type": "markdown",
      "metadata": {
        "id": "cWd6jIUoKw4i"
      },
      "source": [
        "**Zadatak 2.1** Tekst zadatka: \n",
        "\n",
        "Fabrika može proizvoditi tri proizvoda P1, P2 i P3, pri čemu se koriste tri sirovine S1, S2 i S3. Za \n",
        "proizvodnju prvog proizvoda koriste se dvije količinske jedinice prve i tri količinske jedinice druge \n",
        "sirovine. Za proizvodnju drugog proizvoda koriste se dvije količinske jedinice prve, tri količinske jedinice \n",
        "druge i jedna količinska jedinica treće sirovine. Za proizvodnju trećeg proizvoda potrebno je dvije \n",
        "količinske jedinice prve sirovine i jedna količinska jedinica treće sirovine. Dobit od jedne količinske \n",
        "jedinice prvog proizvoda je dvije novčane jedinice, od drugog tri novčane jedinice, a od trećeg jedna \n",
        "novčana jedinica. Ako su količine sirovina za planski period ograničene na četiri količinske jedinice za \n",
        "prvu sirovinu, dvije za drugu i tri za treću, potrebno je napraviti optimalni plan proizvodnje koji se uz zadana ograničenja ostvariti najveću novčanu dobit.\n",
        "\n",
        "---\n",
        "\n"
      ]
    },
    {
      "cell_type": "code",
      "metadata": {
        "colab": {
          "base_uri": "https://localhost:8080/"
        },
        "id": "1-vUxeHimh-Z",
        "outputId": "3975ca8e-7f46-45f0-de9f-a59aae041b48"
      },
      "source": [
        "D=Model(GLPK.Optimizer)"
      ],
      "execution_count": null,
      "outputs": [
        {
          "output_type": "execute_result",
          "data": {
            "text/plain": [
              "A JuMP Model\n",
              "Feasibility problem with:\n",
              "Variables: 0\n",
              "Model mode: AUTOMATIC\n",
              "CachingOptimizer state: EMPTY_OPTIMIZER\n",
              "Solver name: GLPK"
            ]
          },
          "metadata": {},
          "execution_count": 53
        }
      ]
    },
    {
      "cell_type": "code",
      "metadata": {
        "colab": {
          "base_uri": "https://localhost:8080/",
          "height": 38
        },
        "id": "7qo6TIIYmlrc",
        "outputId": "b041e3d1-b4cd-4529-8344-18e15432f195"
      },
      "source": [
        "@variable(D,x1>=0)\n",
        "@variable(D,x2>=0)\n",
        "@variable(D,x3>=0)"
      ],
      "execution_count": null,
      "outputs": [
        {
          "output_type": "execute_result",
          "data": {
            "text/latex": "$$ x3 $$",
            "text/plain": [
              "x3"
            ]
          },
          "metadata": {},
          "execution_count": 54
        }
      ]
    },
    {
      "cell_type": "code",
      "metadata": {
        "colab": {
          "base_uri": "https://localhost:8080/",
          "height": 38
        },
        "id": "kBiyQ1jGmrFR",
        "outputId": "c3c456d2-c47f-4e01-fcd3-0940246b2e69"
      },
      "source": [
        "@objective(D, Max, 2x1+3x2+x3)"
      ],
      "execution_count": null,
      "outputs": [
        {
          "output_type": "execute_result",
          "data": {
            "text/latex": "$$ 2 x1 + 3 x2 + x3 $$",
            "text/plain": [
              "2 x1 + 3 x2 + x3"
            ]
          },
          "metadata": {},
          "execution_count": 55
        }
      ]
    },
    {
      "cell_type": "code",
      "metadata": {
        "colab": {
          "base_uri": "https://localhost:8080/",
          "height": 35
        },
        "id": "alo-iTb9n0X6",
        "outputId": "e7e56679-db32-4500-e380-43ce263be2e4"
      },
      "source": [
        "@constraint(D,con1,2x1+2x2+2x3<=4)"
      ],
      "execution_count": null,
      "outputs": [
        {
          "output_type": "execute_result",
          "data": {
            "text/latex": "con1 : $ 2 x1 + 2 x2 + 2 x3 \\leq 4.0 $",
            "text/plain": [
              "con1 : 2 x1 + 2 x2 + 2 x3 ≤ 4.0"
            ]
          },
          "metadata": {},
          "execution_count": 56
        }
      ]
    },
    {
      "cell_type": "code",
      "metadata": {
        "colab": {
          "base_uri": "https://localhost:8080/",
          "height": 35
        },
        "id": "0Ok5z92IoFq_",
        "outputId": "fc4b1469-f1fb-4489-d1da-9f43f9b222bc"
      },
      "source": [
        "@constraint(D,con2,3x1+3x2<=2)"
      ],
      "execution_count": null,
      "outputs": [
        {
          "output_type": "execute_result",
          "data": {
            "text/latex": "con2 : $ 3 x1 + 3 x2 \\leq 2.0 $",
            "text/plain": [
              "con2 : 3 x1 + 3 x2 ≤ 2.0"
            ]
          },
          "metadata": {},
          "execution_count": 57
        }
      ]
    },
    {
      "cell_type": "code",
      "metadata": {
        "colab": {
          "base_uri": "https://localhost:8080/",
          "height": 35
        },
        "id": "Q73k4-EooMmu",
        "outputId": "9c1d7ee2-27d0-4c6c-d968-bc781d5a9539"
      },
      "source": [
        "@constraint(D,con3,x2+x3<=3)"
      ],
      "execution_count": null,
      "outputs": [
        {
          "output_type": "execute_result",
          "data": {
            "text/latex": "con3 : $ x2 + x3 \\leq 3.0 $",
            "text/plain": [
              "con3 : x2 + x3 ≤ 3.0"
            ]
          },
          "metadata": {},
          "execution_count": 58
        }
      ]
    },
    {
      "cell_type": "code",
      "metadata": {
        "colab": {
          "base_uri": "https://localhost:8080/",
          "height": 195
        },
        "id": "c4EJu62KolEo",
        "outputId": "fe4a19f5-831a-44bd-bf01-108ce3e34725"
      },
      "source": [
        "print(D)"
      ],
      "execution_count": null,
      "outputs": [
        {
          "output_type": "display_data",
          "data": {
            "text/latex": "$$ \\begin{aligned}\n\\max\\quad & 2 x1 + 3 x2 + x3\\\\\n\\text{Subject to} \\quad & 2 x1 + 2 x2 + 2 x3 \\leq 4.0\\\\\n & 3 x1 + 3 x2 \\leq 2.0\\\\\n & x2 + x3 \\leq 3.0\\\\\n & x1 \\geq 0.0\\\\\n & x2 \\geq 0.0\\\\\n & x3 \\geq 0.0\\\\\n\\end{aligned} $$"
          },
          "metadata": {}
        }
      ]
    },
    {
      "cell_type": "code",
      "metadata": {
        "id": "fQS9L02WowQw"
      },
      "source": [
        "optimize!(D)"
      ],
      "execution_count": null,
      "outputs": []
    },
    {
      "cell_type": "code",
      "metadata": {
        "colab": {
          "base_uri": "https://localhost:8080/"
        },
        "id": "U6cvASlRo1GP",
        "outputId": "03cb7cbc-3dee-406a-a966-f3f144128db6"
      },
      "source": [
        "termination_status(D)"
      ],
      "execution_count": null,
      "outputs": [
        {
          "output_type": "execute_result",
          "data": {
            "text/plain": [
              "OPTIMAL::TerminationStatusCode = 1"
            ]
          },
          "metadata": {},
          "execution_count": 61
        }
      ]
    },
    {
      "cell_type": "code",
      "metadata": {
        "colab": {
          "base_uri": "https://localhost:8080/"
        },
        "id": "sHfu0eUjo3YI",
        "outputId": "964119d2-cfe8-411c-f7a6-5566690b0700"
      },
      "source": [
        "println(\"Rješenja:\")\n",
        "println(\"x1= \", value(x1))\n",
        "println(\"x2= \", value(x2))\n",
        "println(\"x3= \", value(x3))\n",
        "println(\"Vrijednost cilja:\")\n",
        "println(objective_value(D))"
      ],
      "execution_count": null,
      "outputs": [
        {
          "output_type": "stream",
          "name": "stdout",
          "text": [
            "Rješenja:\n",
            "x1= 0.0\n",
            "x2= 0.6666666666666666\n",
            "x3= 1.3333333333333335\n",
            "Vrijednost cilja:\n",
            "3.3333333333333335\n"
          ]
        }
      ]
    },
    {
      "cell_type": "code",
      "metadata": {
        "colab": {
          "base_uri": "https://localhost:8080/"
        },
        "id": "ochS1YQapAr2",
        "outputId": "1e02045c-9d72-47a4-b9e1-75788b835881"
      },
      "source": [
        "value(con1)"
      ],
      "execution_count": null,
      "outputs": [
        {
          "output_type": "execute_result",
          "data": {
            "text/plain": [
              "4.0"
            ]
          },
          "metadata": {},
          "execution_count": 63
        }
      ]
    },
    {
      "cell_type": "code",
      "metadata": {
        "colab": {
          "base_uri": "https://localhost:8080/"
        },
        "id": "tmQI-xQQ14ag",
        "outputId": "06585e65-8698-4e6d-a182-aaa1cf935376"
      },
      "source": [
        "value(con3)"
      ],
      "execution_count": null,
      "outputs": [
        {
          "output_type": "execute_result",
          "data": {
            "text/plain": [
              "2.0"
            ]
          },
          "metadata": {},
          "execution_count": 64
        }
      ]
    },
    {
      "cell_type": "markdown",
      "metadata": {
        "id": "B2Ewz45dpKk1"
      },
      "source": [
        "**Zadatak 2.2** Tekst zadatka\n",
        "\n",
        "Fabrika proizvodi dva proizvoda. Za proizvodnju oba proizvoda koristi se jedna sirovina čija količina je \n",
        "ograničena na 20 kg u planskom periodu. Za pravljenje svakog kilograma prvog proizvoda potroši se 250 \n",
        "grama sirovine,a za pravljenje svakog kilograma drugog proizvoda potroši se 750 grama sirovine. Dobit od \n",
        "prvog proizvoda je 3 KM po kilogramu, a od drugog 7 KM po kilogramu. Potrebno je napraviti plan \n",
        "proizvodnje koji maksimizira dobit, pri čemu je potrebno povesti računa da je količina proizvoda koji se \n",
        "mogu plasirati na tržište ograničena. Prvog proizvoda može se prodati maksimalno 10 kg, a drugog 9 kg.\n",
        "\n",
        "\n",
        "---\n",
        "\n"
      ]
    },
    {
      "cell_type": "code",
      "metadata": {
        "colab": {
          "base_uri": "https://localhost:8080/"
        },
        "id": "0Ej26PznqPke",
        "outputId": "a275d43c-38c9-4ebc-9450-60f4683e4c2b"
      },
      "source": [
        "E=Model(GLPK.Optimizer)"
      ],
      "execution_count": null,
      "outputs": [
        {
          "output_type": "execute_result",
          "data": {
            "text/plain": [
              "A JuMP Model\n",
              "Feasibility problem with:\n",
              "Variables: 0\n",
              "Model mode: AUTOMATIC\n",
              "CachingOptimizer state: EMPTY_OPTIMIZER\n",
              "Solver name: GLPK"
            ]
          },
          "metadata": {},
          "execution_count": 65
        }
      ]
    },
    {
      "cell_type": "code",
      "metadata": {
        "colab": {
          "base_uri": "https://localhost:8080/",
          "height": 38
        },
        "id": "UEJ6ZSrSqTdE",
        "outputId": "455cbfb1-0c22-46c7-f1d1-0ffa05203e5a"
      },
      "source": [
        "@variable(E,10>=x1>=0)\n",
        "@variable(E,9>=x2>=0)"
      ],
      "execution_count": null,
      "outputs": [
        {
          "output_type": "execute_result",
          "data": {
            "text/latex": "$$ x2 $$",
            "text/plain": [
              "x2"
            ]
          },
          "metadata": {},
          "execution_count": 66
        }
      ]
    },
    {
      "cell_type": "code",
      "metadata": {
        "colab": {
          "base_uri": "https://localhost:8080/",
          "height": 38
        },
        "id": "TLC2PDKGvBmD",
        "outputId": "2d540ad3-9dec-460f-f7f7-a7a416e411e0"
      },
      "source": [
        "@objective(E, Max, 3x1+7x2)"
      ],
      "execution_count": null,
      "outputs": [
        {
          "output_type": "execute_result",
          "data": {
            "text/latex": "$$ 3 x1 + 7 x2 $$",
            "text/plain": [
              "3 x1 + 7 x2"
            ]
          },
          "metadata": {},
          "execution_count": 67
        }
      ]
    },
    {
      "cell_type": "code",
      "metadata": {
        "colab": {
          "base_uri": "https://localhost:8080/",
          "height": 35
        },
        "id": "Db38Q7l8weAU",
        "outputId": "ba1be57b-fdeb-44dc-df9e-0df237c219fb"
      },
      "source": [
        "@constraint(E, con4, 0.25x1+0.75x2<=20)"
      ],
      "execution_count": null,
      "outputs": [
        {
          "output_type": "execute_result",
          "data": {
            "text/latex": "con4 : $ 0.25 x1 + 0.75 x2 \\leq 20.0 $",
            "text/plain": [
              "con4 : 0.25 x1 + 0.75 x2 ≤ 20.0"
            ]
          },
          "metadata": {},
          "execution_count": 68
        }
      ]
    },
    {
      "cell_type": "code",
      "metadata": {
        "colab": {
          "base_uri": "https://localhost:8080/",
          "height": 169
        },
        "id": "jm-b167UxhCT",
        "outputId": "d37f895b-5c33-4e29-abd2-1461ca4cc641"
      },
      "source": [
        "print(E)"
      ],
      "execution_count": null,
      "outputs": [
        {
          "output_type": "display_data",
          "data": {
            "text/latex": "$$ \\begin{aligned}\n\\max\\quad & 3 x1 + 7 x2\\\\\n\\text{Subject to} \\quad & 0.25 x1 + 0.75 x2 \\leq 20.0\\\\\n & x1 \\geq 0.0\\\\\n & x2 \\geq 0.0\\\\\n & x1 \\leq 10.0\\\\\n & x2 \\leq 9.0\\\\\n\\end{aligned} $$"
          },
          "metadata": {}
        }
      ]
    },
    {
      "cell_type": "code",
      "metadata": {
        "id": "PVEtJiWhxpgP"
      },
      "source": [
        "optimize!(E)"
      ],
      "execution_count": null,
      "outputs": []
    },
    {
      "cell_type": "code",
      "metadata": {
        "colab": {
          "base_uri": "https://localhost:8080/"
        },
        "id": "c33vkrLvxtNc",
        "outputId": "0fc1afa1-85fb-45ac-9f66-d8cfa62c9f53"
      },
      "source": [
        "termination_status(E)"
      ],
      "execution_count": null,
      "outputs": [
        {
          "output_type": "execute_result",
          "data": {
            "text/plain": [
              "OPTIMAL::TerminationStatusCode = 1"
            ]
          },
          "metadata": {},
          "execution_count": 71
        }
      ]
    },
    {
      "cell_type": "code",
      "metadata": {
        "colab": {
          "base_uri": "https://localhost:8080/"
        },
        "id": "l_kkVvszxvYY",
        "outputId": "a732c419-97f1-4a0f-8f9f-cab7662786d0"
      },
      "source": [
        "println(\"Rješenja:\")\n",
        "println(\"x1= \", value(x1))\n",
        "println(\"x2= \", value(x2))\n",
        "println(\"Vrijednost cilja:\")\n",
        "println(objective_value(E))"
      ],
      "execution_count": null,
      "outputs": [
        {
          "output_type": "stream",
          "name": "stdout",
          "text": [
            "Rješenja:\n",
            "x1= 10.0\n",
            "x2= 9.0\n",
            "Vrijednost cilja:\n",
            "93.0\n"
          ]
        }
      ]
    },
    {
      "cell_type": "code",
      "metadata": {
        "colab": {
          "base_uri": "https://localhost:8080/"
        },
        "id": "K-8y2A5YymXl",
        "outputId": "a11bc897-a844-4ff3-8054-b775319d1550"
      },
      "source": [
        "value(con4)"
      ],
      "execution_count": null,
      "outputs": [
        {
          "output_type": "execute_result",
          "data": {
            "text/plain": [
              "9.25"
            ]
          },
          "metadata": {},
          "execution_count": 73
        }
      ]
    },
    {
      "cell_type": "markdown",
      "metadata": {
        "id": "26RGx6rhyzK7"
      },
      "source": [
        "**Zadatak 2.3** Tekst zadatka\n",
        "\n",
        "Kompanija za proizvodnju slatkiša proizvodi visokokvalitetne čokoladne proizvode i namjerava pokrenuti \n",
        "proizvodnju dva nova slatkiša. Proizvodi se prave u tri različita odjeljka u kojem provode određeno \n",
        "vrijeme. Prvi proizvod zahtijeva 1 h proizvodnje u odjeljku 1 i 3 h proizvodnje u odjeljku 3 po jednom \n",
        "komadu. Drugi proizvod zahtijeva 1 h proizvodnje u odjeljku 2 i 2 h proizvodnje u odjeljku 3 po jedom \n",
        "komadu. Odjeljak 1 ima na raspolaganju 3 slobodna sata, odjeljak 2 ima 6 slobodnih sati i odjeljak 3 ima \n",
        "18 slobodnih sati. Svi proizvedeni novi proizvodi mogu se prodati a cijena prvog iznosi 2 KM, a drugog \n",
        "4 KM po komadu.\n",
        "\n",
        "---\n",
        "\n"
      ]
    },
    {
      "cell_type": "code",
      "metadata": {
        "colab": {
          "base_uri": "https://localhost:8080/"
        },
        "id": "rJHa9SP8zLLa",
        "outputId": "6cbe1b27-8eec-4a05-859e-bd9a2564cbd9"
      },
      "source": [
        "F=Model(GLPK.Optimizer)"
      ],
      "execution_count": null,
      "outputs": [
        {
          "output_type": "execute_result",
          "data": {
            "text/plain": [
              "A JuMP Model\n",
              "Feasibility problem with:\n",
              "Variables: 0\n",
              "Model mode: AUTOMATIC\n",
              "CachingOptimizer state: EMPTY_OPTIMIZER\n",
              "Solver name: GLPK"
            ]
          },
          "metadata": {},
          "execution_count": 74
        }
      ]
    },
    {
      "cell_type": "code",
      "metadata": {
        "colab": {
          "base_uri": "https://localhost:8080/",
          "height": 38
        },
        "id": "r1Feo8FV0Fhw",
        "outputId": "6bdf7a17-77b3-4686-b1e7-6b490db61efd"
      },
      "source": [
        "@variable(F,x1>=0)\n",
        "@variable(F,x2>=0)"
      ],
      "execution_count": null,
      "outputs": [
        {
          "output_type": "execute_result",
          "data": {
            "text/latex": "$$ x2 $$",
            "text/plain": [
              "x2"
            ]
          },
          "metadata": {},
          "execution_count": 75
        }
      ]
    },
    {
      "cell_type": "code",
      "metadata": {
        "colab": {
          "base_uri": "https://localhost:8080/",
          "height": 38
        },
        "id": "OnywYGbs0sMh",
        "outputId": "4783d145-0801-42c7-ae46-6dd9f8e5c96c"
      },
      "source": [
        "@objective(F, Max, 2x1+4x2)"
      ],
      "execution_count": null,
      "outputs": [
        {
          "output_type": "execute_result",
          "data": {
            "text/latex": "$$ 2 x1 + 4 x2 $$",
            "text/plain": [
              "2 x1 + 4 x2"
            ]
          },
          "metadata": {},
          "execution_count": 76
        }
      ]
    },
    {
      "cell_type": "code",
      "metadata": {
        "colab": {
          "base_uri": "https://localhost:8080/",
          "height": 35
        },
        "id": "ilbEgSdb1MM0",
        "outputId": "91f8e903-0ade-4409-ca6c-0ca03c86b391"
      },
      "source": [
        "@constraint(F,con5, x1<=3)"
      ],
      "execution_count": null,
      "outputs": [
        {
          "output_type": "execute_result",
          "data": {
            "text/latex": "con5 : $ x1 \\leq 3.0 $",
            "text/plain": [
              "con5 : x1 ≤ 3.0"
            ]
          },
          "metadata": {},
          "execution_count": 77
        }
      ]
    },
    {
      "cell_type": "code",
      "metadata": {
        "colab": {
          "base_uri": "https://localhost:8080/",
          "height": 35
        },
        "id": "saXAGAri2lTl",
        "outputId": "a11ff1c9-b53b-484b-a4c1-941934239ee5"
      },
      "source": [
        "@constraint(F,con6,x2<=6)"
      ],
      "execution_count": null,
      "outputs": [
        {
          "output_type": "execute_result",
          "data": {
            "text/latex": "con6 : $ x2 \\leq 6.0 $",
            "text/plain": [
              "con6 : x2 ≤ 6.0"
            ]
          },
          "metadata": {},
          "execution_count": 78
        }
      ]
    },
    {
      "cell_type": "code",
      "metadata": {
        "colab": {
          "base_uri": "https://localhost:8080/",
          "height": 35
        },
        "id": "0DhHjDsj2p09",
        "outputId": "a5ab533f-70d2-41e0-edc2-4620b8800613"
      },
      "source": [
        "@constraint(F,con7,3x1+2x2<=18)"
      ],
      "execution_count": null,
      "outputs": [
        {
          "output_type": "execute_result",
          "data": {
            "text/latex": "con7 : $ 3 x1 + 2 x2 \\leq 18.0 $",
            "text/plain": [
              "con7 : 3 x1 + 2 x2 ≤ 18.0"
            ]
          },
          "metadata": {},
          "execution_count": 79
        }
      ]
    },
    {
      "cell_type": "code",
      "metadata": {
        "colab": {
          "base_uri": "https://localhost:8080/",
          "height": 169
        },
        "id": "Ysd1tCzE2xj0",
        "outputId": "eb657c4b-cbb6-46a3-edc6-f906770d331f"
      },
      "source": [
        "print(F)"
      ],
      "execution_count": null,
      "outputs": [
        {
          "output_type": "display_data",
          "data": {
            "text/latex": "$$ \\begin{aligned}\n\\max\\quad & 2 x1 + 4 x2\\\\\n\\text{Subject to} \\quad & x1 \\leq 3.0\\\\\n & x2 \\leq 6.0\\\\\n & 3 x1 + 2 x2 \\leq 18.0\\\\\n & x1 \\geq 0.0\\\\\n & x2 \\geq 0.0\\\\\n\\end{aligned} $$"
          },
          "metadata": {}
        }
      ]
    },
    {
      "cell_type": "code",
      "metadata": {
        "id": "5PqS0msS22On"
      },
      "source": [
        "optimize!(F)"
      ],
      "execution_count": null,
      "outputs": []
    },
    {
      "cell_type": "code",
      "metadata": {
        "colab": {
          "base_uri": "https://localhost:8080/"
        },
        "id": "JqlQlzZ825o3",
        "outputId": "991f3103-3893-4b3b-c372-a641a0cb6bf2"
      },
      "source": [
        "termination_status(F)"
      ],
      "execution_count": null,
      "outputs": [
        {
          "output_type": "execute_result",
          "data": {
            "text/plain": [
              "OPTIMAL::TerminationStatusCode = 1"
            ]
          },
          "metadata": {},
          "execution_count": 82
        }
      ]
    },
    {
      "cell_type": "code",
      "metadata": {
        "colab": {
          "base_uri": "https://localhost:8080/"
        },
        "id": "xLgWWy-z27Ha",
        "outputId": "b3d3fc4a-1c3e-48f8-c42d-731e1b720bec"
      },
      "source": [
        "println(\"Rješenja:\")\n",
        "println(\"x1= \", value(x1))\n",
        "println(\"x2= \", value(x2))\n",
        "println(\"Vrijednost cilja:\")\n",
        "println(objective_value(F))"
      ],
      "execution_count": null,
      "outputs": [
        {
          "output_type": "stream",
          "name": "stdout",
          "text": [
            "Rješenja:\n",
            "x1= 2.0\n",
            "x2= 6.0\n",
            "Vrijednost cilja:\n",
            "28.0\n"
          ]
        }
      ]
    },
    {
      "cell_type": "code",
      "metadata": {
        "colab": {
          "base_uri": "https://localhost:8080/"
        },
        "id": "OoLeWJvx3H8Q",
        "outputId": "ffcb8d23-7820-4cb3-b526-feebba3468d1"
      },
      "source": [
        "value(con7)"
      ],
      "execution_count": null,
      "outputs": [
        {
          "output_type": "execute_result",
          "data": {
            "text/plain": [
              "18.0"
            ]
          },
          "metadata": {},
          "execution_count": 84
        }
      ]
    }
  ]
}